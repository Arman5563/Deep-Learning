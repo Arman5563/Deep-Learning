{
 "cells": [
  {
   "cell_type": "markdown",
   "id": "75ea05b1-2632-490c-8116-430e902168fe",
   "metadata": {},
   "source": [
    "## Student Identity\n",
    "Name: Arman Lotfalikhani <br>\n",
    "Student Number: 99109166"
   ]
  },
  {
   "cell_type": "code",
   "execution_count": 1,
   "id": "583b0103-d4e1-4d58-bf4d-e04e4deec9f8",
   "metadata": {},
   "outputs": [],
   "source": [
    "import torch\n",
    "from torchvision.datasets import CIFAR10\n",
    "from torchvision import transforms\n",
    "from torchvision.models import alexnet, AlexNet_Weights\n",
    "from torch.utils.data import DataLoader\n",
    "import torch.nn as nn\n",
    "\n",
    "import numpy as np\n",
    "from matplotlib import pyplot as plt\n",
    "from typing import Dict"
   ]
  },
  {
   "cell_type": "code",
   "execution_count": 2,
   "id": "58899fff-f4c1-49e0-859c-d1cadc77c77b",
   "metadata": {},
   "outputs": [
    {
     "name": "stdout",
     "output_type": "stream",
     "text": [
      "Files already downloaded and verified\n",
      "Files already downloaded and verified\n"
     ]
    }
   ],
   "source": [
    "train_set = CIFAR10(root='.', train=True, download=True, transform=transforms.Compose([transforms.Resize(size=(224,224)),transforms.ToTensor()]))\n",
    "test_set = CIFAR10(root='.', train=False, download=True, transform=transforms.Compose([transforms.Resize(size=(224,224)),transforms.ToTensor()]))\n",
    "\n",
    "\n",
    "train_targets=np.array(train_set.targets)\n",
    "test_targets=np.array(test_set.targets)\n",
    "\n",
    "train_mask=(train_targets==0) | (train_targets==1)\n",
    "test_mask=(test_targets==0) | (test_targets==1)\n",
    "\n",
    "train_set.targets=train_targets[train_mask].tolist()\n",
    "train_set.data=train_set.data[train_mask]\n",
    "\n",
    "test_set.targets=test_targets[test_mask].tolist()\n",
    "test_set.data=test_set.data[test_mask]\n",
    "\n",
    "image_shape = train_set[0][0].shape\n",
    "input_dim = np.prod(image_shape).item() \n",
    "num_classes=2\n"
   ]
  },
  {
   "cell_type": "code",
   "execution_count": 3,
   "id": "92108a00-47ab-4c69-8008-120c2059768b",
   "metadata": {},
   "outputs": [],
   "source": [
    "device = torch.device(\"cuda\" if torch.cuda.is_available() else \"cpu\")\n",
    "alex_model=alexnet(weights=AlexNet_Weights.IMAGENET1K_V1, progress=True)"
   ]
  },
  {
   "cell_type": "code",
   "execution_count": 4,
   "id": "90dcd711-30fa-4d84-8faa-cc9243953afc",
   "metadata": {},
   "outputs": [
    {
     "name": "stdout",
     "output_type": "stream",
     "text": [
      "Number of train set samples 10000 Number of test set samples 2000\n"
     ]
    }
   ],
   "source": [
    "for p in alex_model.features.parameters():\n",
    "    p.requires_grad=False\n",
    "for m in alex_model.classifier.named_modules():\n",
    "    if hasattr(m,'reset_parameters'):\n",
    "        m.reset_parameters()\n",
    "alex_model.classifier[6]=nn.Linear(in_features=4096, out_features=2, bias=True)\n",
    "n=len(train_set.targets)\n",
    "n_test=len(test_set.targets)\n",
    "print('Number of train set samples', n,'Number of test set samples', n_test)"
   ]
  },
  {
   "cell_type": "code",
   "execution_count": 5,
   "id": "c8281467-268c-4819-9fbb-5508e10132e4",
   "metadata": {},
   "outputs": [],
   "source": [
    "loss_func=nn.CrossEntropyLoss()\n",
    "gpu_alex_model=alex_model.to(device)\n",
    "optimizer=torch.optim.Adam(gpu_alex_model.parameters())\n",
    "trainloader = DataLoader(train_set, 128, shuffle=True)\n",
    "testloader = DataLoader(test_set, 64, shuffle=True)"
   ]
  },
  {
   "cell_type": "code",
   "execution_count": 6,
   "id": "035a9154-a087-4b31-93cf-0738604b3f2f",
   "metadata": {},
   "outputs": [
    {
     "name": "stdout",
     "output_type": "stream",
     "text": [
      "0.9335\n",
      "Epoch: 1 Running loss: 0.321545\n",
      "0.9689\n",
      "Epoch: 2 Running loss: 0.118425\n",
      "0.9715\n",
      "Epoch: 3 Running loss: 0.104260\n",
      "0.9763\n",
      "Epoch: 4 Running loss: 0.089494\n",
      "0.96\n",
      "Epoch: 5 Running loss: 0.077439\n",
      "Finished Training\n"
     ]
    }
   ],
   "source": [
    "epoch_nums = 5## Number of epochs\n",
    "train_loss_list=[]\n",
    "train_acc_list=[]\n",
    "for epoch in range(epoch_nums):  # loop over the dataset multiple times\n",
    "    gpu_alex_model.train()\n",
    "    running_loss = 0.0\n",
    "    for i, data in enumerate(trainloader, 0):\n",
    "        images=data[0].to(device)\n",
    "        my_classes=data[1].to(device)\n",
    "        \n",
    "        logits=gpu_alex_model(images)\n",
    "        loss=loss_func(logits,my_classes)\n",
    "        \n",
    "        loss.backward()\n",
    "        optimizer.step()\n",
    "        optimizer.zero_grad()\n",
    "        \n",
    "        running_loss=running_loss+loss.item()/len(trainloader)\n",
    "    \n",
    "    gpu_alex_model.eval()\n",
    "    correct=0\n",
    "    total=0\n",
    "    with torch.no_grad():\n",
    "        for data in trainloader:\n",
    "            images=data[0].to(device)\n",
    "            labels=data[1].to(device)\n",
    "            predictions=torch.argmax(gpu_alex_model(images),1)\n",
    "            correct+=torch.sum(torch.eq(predictions,labels)).item()\n",
    "            total+=len(predictions)\n",
    "    train_acc_list.append(correct/total)\n",
    "    print(correct/total)\n",
    "\n",
    "    print(\"Epoch: %i Running loss: %f\"%(epoch+1,running_loss))\n",
    "    train_loss_list.append(running_loss)\n",
    "\n",
    "print('Finished Training')"
   ]
  },
  {
   "cell_type": "code",
   "execution_count": 11,
   "id": "7aef2d9b-44bf-405d-a071-7aadc20ea009",
   "metadata": {},
   "outputs": [
    {
     "data": {
      "image/png": "[encoded data removed]",
      "text/plain": [
       "<Figure size 640x480 with 1 Axes>"
      ]
     },
     "metadata": {},
     "output_type": "display_data"
    }
   ],
   "source": [
    "plt.title('Accuracy and loss on the train set')\n",
    "plt.plot(np.arange(1,epoch_nums+1),train_acc_list,label='Accuracy')\n",
    "plt.plot(np.arange(1,epoch_nums+1),train_loss_list,label='Loss')\n",
    "plt.xlabel('Epoch')\n",
    "plt.legend()\n",
    "plt.show()"
   ]
  },
  {
   "cell_type": "code",
   "execution_count": 12,
   "id": "5ad99b6d-ed2e-487d-893f-355250a9587f",
   "metadata": {},
   "outputs": [
    {
     "name": "stdout",
     "output_type": "stream",
     "text": [
      "Accuracy of the network on the 2000 test images: 94.6 %\n"
     ]
    }
   ],
   "source": [
    "correct = 0\n",
    "total = 0\n",
    "\n",
    "gpu_alex_model.eval()\n",
    "with torch.no_grad():\n",
    "    for data in testloader:\n",
    "        images=data[0].to(device)\n",
    "        labels=data[1].to(device)\n",
    "        predictions=torch.argmax(gpu_alex_model(images),1)\n",
    "        correct+=torch.sum(torch.eq(predictions,labels)).item()\n",
    "        total+=len(predictions)\n",
    "\n",
    "print(f'Accuracy of the network on the 2000 test images: {100 * correct / total} %')"
   ]
  },
  {
   "cell_type": "markdown",
   "id": "a2432954-d40d-4db8-b9bf-b0ee25cd77ea",
   "metadata": {},
   "source": [
    "## Triplet loss training on the convolutional section"
   ]
  },
  {
   "cell_type": "markdown",
   "id": "af3e6d4a-45a2-433b-86a4-f09d4dfc3a4c",
   "metadata": {},
   "source": [
    "Explanation on the dataset class: In the constructor, first the dataset is reduced to two classes using a mask. After that, we extract the two sets for both labels. <br>\n",
    "For the triplet loss, first we determine the label of the datapoint (given by idx in __getitem__), use it as the anchor, and sample randomly from the dataset for the positive and negative outputs, based on the anchor label.\n"
   ]
  },
  {
   "cell_type": "code",
   "execution_count": 5,
   "id": "80e735d8-429a-4077-aae5-51d64deffdb2",
   "metadata": {},
   "outputs": [
    {
     "name": "stdout",
     "output_type": "stream",
     "text": [
      "Files already downloaded and verified\n"
     ]
    }
   ],
   "source": [
    "from PIL import Image\n",
    "\n",
    "class triplet_loss_cifar10_two_class(CIFAR10):\n",
    "    def __init__(self, label1, label2, train,download,transform,device):\n",
    "        super().__init__(root='.', train=train, download=download, transform=transform)\n",
    "        targets=np.array(self.targets)\n",
    "        mask=(targets==label1) | (targets==label2)\n",
    "        self.targets=targets[mask].tolist()\n",
    "        reduced_targets=targets[mask]\n",
    "        self.data=self.data[mask]\n",
    "        self.rng=np.random.default_rng(100)\n",
    "        \n",
    "        self.transform=transform\n",
    "        self.device=device\n",
    "        \n",
    "        self.label_map={label1:0,label2:1}\n",
    "        \n",
    "        mask2=(reduced_targets==label1)\n",
    "        self.sets=(self.data[mask2],self.data[~mask2])       \n",
    "        self.lens=(len(self.sets[0]), len(self.sets[1]))\n",
    "        self.nptargets=(reduced_targets[mask2],reduced_targets[~mask2])\n",
    "        return\n",
    "    def __getitem__(self,idx):\n",
    "        im, label = super().__getitem__(idx)\n",
    "\n",
    "        bin_label=self.label_map[label]\n",
    "        pos_idx=self.rng.integers(self.lens[bin_label])\n",
    "        neg_idx=self.rng.integers(self.lens[1-bin_label])\n",
    "        \n",
    "        pos_label=self.nptargets[bin_label][pos_idx]\n",
    "        neg_label=self.nptargets[1-bin_label][neg_idx]\n",
    "\n",
    "        pos=self.transform(Image.fromarray(self.sets[bin_label][pos_idx]))\n",
    "        neg=self.transform(Image.fromarray(self.sets[1-bin_label][neg_idx]))\n",
    "        \n",
    "        anchor=im\n",
    "        anchor_label=label\n",
    "        return anchor, pos, neg, anchor_label, pos_label, neg_label\n",
    "device = torch.device(\"cuda\" if torch.cuda.is_available() else \"cpu\")\n",
    "triplet_train=triplet_loss_cifar10_two_class(label1=0, label2=1, train=True, download=True, device=device, \n",
    "                                             transform=transforms.Compose([transforms.Resize(size=(224,224)),transforms.ToTensor()]))"
   ]
  },
  {
   "cell_type": "code",
   "execution_count": 14,
   "id": "f542f655-b9bf-4186-8d8c-a9a75c289eb3",
   "metadata": {},
   "outputs": [],
   "source": [
    "alex_model2=alexnet(weights=AlexNet_Weights.IMAGENET1K_V1, progress=True)\n",
    "for m in alex_model2.classifier.named_modules():\n",
    "    if hasattr(m,'reset_parameters'):\n",
    "        m.reset_parameters()\n",
    "alex_model2.classifier[6]=nn.Linear(in_features=4096, out_features=2, bias=True)\n",
    "cross_entropy2=nn.CrossEntropyLoss()\n",
    "triplet_loss1=nn.TripletMarginLoss()\n",
    "gpu_alex_model2=alex_model2.to(device)\n",
    "triplet_optimizer1=torch.optim.Adam(gpu_alex_model2.features.parameters())\n",
    "cross_entropy_optimizer2=torch.optim.Adam(gpu_alex_model2.classifier.parameters())\n",
    "triplet_loader1 = DataLoader(triplet_train, 128, shuffle=True)"
   ]
  },
  {
   "cell_type": "code",
   "execution_count": 15,
   "id": "bb74e078-0706-4c9c-9130-ca7abe96898f",
   "metadata": {},
   "outputs": [
    {
     "name": "stdout",
     "output_type": "stream",
     "text": [
      "Epoch: 1 Running loss: 0.605468\n",
      "Epoch: 2 Running loss: 0.339137\n",
      "Epoch: 3 Running loss: 0.259680\n",
      "Epoch: 4 Running loss: 0.195068\n",
      "Epoch: 5 Running loss: 0.203574\n",
      "Finished Training the feature extractor\n"
     ]
    }
   ],
   "source": [
    "epoch_nums = 5 ## Number of epochs\n",
    "train_loss_list=[]\n",
    "for epoch in range(epoch_nums):  # loop over the dataset multiple times\n",
    "    gpu_alex_model2.train()\n",
    "    running_loss = 0.0\n",
    "    for i, data in enumerate(triplet_loader1, 0):\n",
    "        (anchor, pos, neg, anchor_label, pos_label, neg_label)=data\n",
    "        \n",
    "        pos_out=gpu_alex_model2.features.forward( (pos.to(device)) ) \n",
    "        neg_out=gpu_alex_model2.features.forward( (neg.to(device)) )\n",
    "        anchor_out=gpu_alex_model2.features(anchor.to(device))\n",
    "        loss=triplet_loss1(anchor_out.flatten(start_dim=1),pos_out.flatten(start_dim=1),neg_out.flatten(start_dim=1))\n",
    "        \n",
    "        loss.backward()\n",
    "        triplet_optimizer1.step()\n",
    "        triplet_optimizer1.zero_grad()\n",
    "        \n",
    "        running_loss=running_loss+loss.item()/len(triplet_loader1)\n",
    "\n",
    "    print(\"Epoch: %i Running loss: %f\"%(epoch+1,running_loss))\n",
    "    train_loss_list.append(running_loss)\n",
    "\n",
    "print('Finished Training the feature extractor')"
   ]
  },
  {
   "cell_type": "code",
   "execution_count": 16,
   "id": "7cc9eff0-2507-46f3-93a1-753fbb8326fd",
   "metadata": {},
   "outputs": [
    {
     "data": {
      "image/png": "[encoded data removed]",
      "text/plain": [
       "<Figure size 640x480 with 1 Axes>"
      ]
     },
     "metadata": {},
     "output_type": "display_data"
    }
   ],
   "source": [
    "plt.title('Feature extractor loss on the train set')\n",
    "plt.plot(np.arange(1,epoch_nums+1),train_loss_list,label='Loss')\n",
    "plt.xlabel('Epoch')\n",
    "plt.legend()\n",
    "plt.show()"
   ]
  },
  {
   "cell_type": "code",
   "execution_count": 17,
   "id": "a19e9fa6-0eb7-4175-9f27-cf8dc5601739",
   "metadata": {},
   "outputs": [
    {
     "name": "stdout",
     "output_type": "stream",
     "text": [
      "Epoch: 1 Running loss: 0.212769\n",
      "Epoch: 2 Running loss: 0.163581\n",
      "Epoch: 3 Running loss: 0.162942\n",
      "Epoch: 4 Running loss: 0.156476\n",
      "Epoch: 5 Running loss: 0.151228\n",
      "Finished Training\n"
     ]
    }
   ],
   "source": [
    "trainloader2 = DataLoader(train_set, 128, shuffle=True)\n",
    "testloader2 = DataLoader(test_set, 64, shuffle=True)\n",
    "for p in alex_model2.features.parameters():\n",
    "    p.requires_grad=False\n",
    "\n",
    "epoch_nums = 5## Number of epochs\n",
    "train_loss_list=[]\n",
    "train_acc_list=[]\n",
    "for epoch in range(epoch_nums):  # loop over the dataset multiple times\n",
    "    gpu_alex_model2.train()\n",
    "    running_loss = 0.0\n",
    "    for i, data in enumerate(trainloader2, 0):\n",
    "        images=data[0].to(device)\n",
    "        my_classes=data[1].to(device)\n",
    "        \n",
    "        logits=gpu_alex_model2(images)\n",
    "        loss=cross_entropy2(logits,my_classes)\n",
    "        \n",
    "        loss.backward()\n",
    "        cross_entropy_optimizer2.step()\n",
    "        cross_entropy_optimizer2.zero_grad()\n",
    "        \n",
    "        running_loss=running_loss+loss.item()/len(trainloader2)\n",
    "    \n",
    "    gpu_alex_model2.eval()\n",
    "    correct=0\n",
    "    total=0\n",
    "    with torch.no_grad():\n",
    "        for data in trainloader2:\n",
    "            images=data[0].to(device)\n",
    "            labels=data[1].to(device)\n",
    "            predictions=torch.argmax(gpu_alex_model2(images),1)\n",
    "            correct+=torch.sum(torch.eq(predictions,labels)).item()\n",
    "            total+=len(predictions)\n",
    "    train_acc_list.append(correct/total)\n",
    "\n",
    "    print(\"Epoch: %i Running loss: %f\"%(epoch+1,running_loss))\n",
    "    train_loss_list.append(running_loss)\n",
    "\n",
    "print('Finished Training')"
   ]
  },
  {
   "cell_type": "code",
   "execution_count": 18,
   "id": "82805909-3d83-468c-b4a5-c21bb7d44ff9",
   "metadata": {},
   "outputs": [
    {
     "data": {
      "image/png": "[encoded data removed]",
      "text/plain": [
       "<Figure size 640x480 with 1 Axes>"
      ]
     },
     "metadata": {},
     "output_type": "display_data"
    }
   ],
   "source": [
    "plt.title('Accuracy and classifier loss on the train set')\n",
    "plt.plot(np.arange(1,epoch_nums+1),train_acc_list,label='Accuracy')\n",
    "plt.plot(np.arange(1,epoch_nums+1),train_loss_list,label='Classifier loss')\n",
    "plt.xlabel('Epoch')\n",
    "plt.legend()\n",
    "plt.show()"
   ]
  },
  {
   "cell_type": "code",
   "execution_count": 19,
   "id": "6c14ddc2-c44c-4037-b5ee-4560728de1b1",
   "metadata": {},
   "outputs": [
    {
     "name": "stdout",
     "output_type": "stream",
     "text": [
      "Accuracy of the network on the 2000 test images: 95.85 %\n"
     ]
    }
   ],
   "source": [
    "correct = 0\n",
    "total = 0\n",
    "# since we're not training, we don't need to calculate the gradients for our outputs\n",
    "gpu_alex_model2.eval()\n",
    "with torch.no_grad():\n",
    "    for data in testloader2:\n",
    "        images=data[0].to(device)\n",
    "        labels=data[1].to(device)\n",
    "        predictions=torch.argmax(gpu_alex_model2(images),1)\n",
    "        correct+=torch.sum(torch.eq(predictions,labels)).item()\n",
    "        total+=len(predictions)\n",
    "\n",
    "print(f'Accuracy of the network on the 2000 test images: {100 * correct / total} %')"
   ]
  },
  {
   "cell_type": "markdown",
   "id": "43c95bad-b782-4997-a798-14cc27595392",
   "metadata": {},
   "source": [
    "## Triplet loss full network training"
   ]
  },
  {
   "cell_type": "code",
   "execution_count": 6,
   "id": "e108266f-9085-473b-8bc1-937922a4fe45",
   "metadata": {},
   "outputs": [
    {
     "name": "stdout",
     "output_type": "stream",
     "text": [
      "Files already downloaded and verified\n"
     ]
    }
   ],
   "source": [
    "device = torch.device(\"cuda\" if torch.cuda.is_available() else \"cpu\")\n",
    "triplet_train2=triplet_loss_cifar10_two_class(label1=0, label2=1, train=True, download=True, device=device, \n",
    "                                             transform=transforms.Compose([transforms.Resize(size=(224,224)),transforms.ToTensor()]))\n",
    "\n",
    "alex_model3=alexnet(weights=AlexNet_Weights.IMAGENET1K_V1, progress=True)\n",
    "for m in alex_model3.classifier.named_modules():\n",
    "    if hasattr(m,'reset_parameters'):\n",
    "        m.reset_parameters()\n",
    "alex_model3.classifier[6]=nn.Linear(in_features=4096, out_features=2, bias=True)\n",
    "cross_entropy3=nn.CrossEntropyLoss()\n",
    "triplet_loss2=nn.TripletMarginLoss()\n",
    "gpu_alex_model3=alex_model3.to(device)\n",
    "optimizer3=torch.optim.Adam(gpu_alex_model3.parameters())\n",
    "triplet_loader2 = DataLoader(triplet_train2, 128, shuffle=True)"
   ]
  },
  {
   "cell_type": "code",
   "execution_count": 7,
   "id": "3212e818-fb7d-4e07-907e-ba92f4fcf533",
   "metadata": {},
   "outputs": [
    {
     "name": "stdout",
     "output_type": "stream",
     "text": [
      "Epoch: 1 Running loss: 1.381478\n",
      "Epoch: 2 Running loss: 0.729770\n",
      "Epoch: 3 Running loss: 0.472094\n",
      "Epoch: 4 Running loss: 0.339217\n",
      "Epoch: 5 Running loss: 0.277987\n",
      "Epoch: 6 Running loss: 0.227650\n",
      "Epoch: 7 Running loss: 0.141290\n",
      "Epoch: 8 Running loss: 0.120296\n",
      "Epoch: 9 Running loss: 0.095310\n",
      "Epoch: 10 Running loss: 0.075835\n",
      "Finished Training the full network\n"
     ]
    }
   ],
   "source": [
    "trainloader3 = DataLoader(train_set, 128, shuffle=True)\n",
    "testloader3 = DataLoader(test_set, 64, shuffle=True)\n",
    "epoch_nums = 10 ## Number of epochs\n",
    "train_loss_list=[]\n",
    "train_acc_list=[]\n",
    "for epoch in range(epoch_nums):  # loop over the dataset multiple times\n",
    "    gpu_alex_model3.train()\n",
    "    running_loss = 0.0\n",
    "    for data in triplet_loader2:\n",
    "        (anchor, pos, neg, anchor_label, pos_label, neg_label)=data\n",
    "        \n",
    "        pos_out=gpu_alex_model3.features.forward( (pos.to(device)) ) \n",
    "        neg_out=gpu_alex_model3.features.forward( (neg.to(device)) )\n",
    "        anchor_out=gpu_alex_model3.features(anchor.to(device))\n",
    "\n",
    "        logits_pos=gpu_alex_model3.classifier.forward(torch.flatten(gpu_alex_model3.avgpool.forward(pos_out),1))\n",
    "        logits_neg=gpu_alex_model3.classifier.forward(torch.flatten(gpu_alex_model3.avgpool.forward(neg_out),1))\n",
    "        logits_anchor=gpu_alex_model3.classifier.forward(torch.flatten(gpu_alex_model3.avgpool.forward(anchor_out),1))\n",
    "        loss_pos=cross_entropy3(logits_pos,pos_label.to(device).type(torch.int64))\n",
    "        loss_neg=cross_entropy3(logits_neg,neg_label.to(device).type(torch.int64))\n",
    "        loss_anchor=cross_entropy3(logits_anchor,anchor_label.to(device).type(torch.int64))\n",
    "        \n",
    "        loss1=triplet_loss2(anchor_out.flatten(start_dim=1),pos_out.flatten(start_dim=1),neg_out.flatten(start_dim=1))\n",
    "        loss2=1/3*(loss_pos+loss_neg+loss_anchor)\n",
    "\n",
    "        loss=loss1+loss2\n",
    "        loss.backward()\n",
    "        \n",
    "        optimizer3.step()\n",
    "        optimizer3.zero_grad()\n",
    "        \n",
    "        running_loss=running_loss+loss.item()/len(triplet_loader2)\n",
    "    gpu_alex_model3.eval()\n",
    "    correct=0\n",
    "    total=0\n",
    "    with torch.no_grad():\n",
    "        for data in trainloader3:\n",
    "            images=data[0].to(device)\n",
    "            labels=data[1].to(device)\n",
    "            predictions=torch.argmax(gpu_alex_model3(images),1)\n",
    "            correct+=torch.sum(torch.eq(predictions,labels)).item()\n",
    "            total+=len(predictions)\n",
    "    train_acc_list.append(correct/total)\n",
    "    print(\"Epoch: %i Running loss: %f\"%(epoch+1,running_loss))\n",
    "    train_loss_list.append(running_loss)\n",
    "\n",
    "\n",
    "print('Finished Training the full network')"
   ]
  },
  {
   "cell_type": "code",
   "execution_count": 8,
   "id": "6a7d0ec4-bf15-40f5-8e55-e45160635388",
   "metadata": {},
   "outputs": [
    {
     "data": {
      "image/png": "[encoded data removed]",
      "text/plain": [
       "<Figure size 640x480 with 1 Axes>"
      ]
     },
     "metadata": {},
     "output_type": "display_data"
    }
   ],
   "source": [
    "plt.title('Accuracy and classifier loss on the train set')\n",
    "plt.plot(np.arange(1,epoch_nums+1),train_acc_list,label='Accuracy')\n",
    "plt.plot(np.arange(1,epoch_nums+1),train_loss_list,label='Classifier loss')\n",
    "plt.xlabel('Epoch')\n",
    "plt.legend()\n",
    "plt.show()"
   ]
  },
  {
   "cell_type": "code",
   "execution_count": 9,
   "id": "d7329537-4529-43ac-afbb-2868d5ac4ac2",
   "metadata": {},
   "outputs": [
    {
     "name": "stdout",
     "output_type": "stream",
     "text": [
      "Accuracy of the network on the 2000 test images: 96.4 %\n"
     ]
    }
   ],
   "source": [
    "correct = 0\n",
    "total = 0\n",
    "# since we're not training, we don't need to calculate the gradients for our outputs\n",
    "gpu_alex_model3.eval()\n",
    "with torch.no_grad():\n",
    "    for data in testloader3:\n",
    "        images=data[0].to(device)\n",
    "        labels=data[1].to(device)\n",
    "        predictions=torch.argmax(gpu_alex_model3(images),1)\n",
    "        correct+=torch.sum(torch.eq(predictions,labels)).item()\n",
    "        total+=len(predictions)\n",
    "\n",
    "print(f'Accuracy of the network on the 2000 test images: {100 * correct / total} %')"
   ]
  },
  {
   "cell_type": "markdown",
   "id": "cfe532f8-83ef-4876-86f1-bceb880d4e16",
   "metadata": {},
   "source": [
    "__Conclusion:__ We have achieved about 2% accuracy increase by using the triplet loss. Also, training the network as a whole yields the highest accuracy."
   ]
  },
  {
   "cell_type": "code",
   "execution_count": null,
   "id": "82221226-4a1a-4762-8ed2-da2466d7e247",
   "metadata": {},
   "outputs": [],
   "source": []
  }
 ],
 "metadata": {
  "kernelspec": {
   "display_name": "Python 3 (ipykernel)",
   "language": "python",
   "name": "python3"
  },
  "language_info": {
   "codemirror_mode": {
    "name": "ipython",
    "version": 3
   },
   "file_extension": ".py",
   "mimetype": "text/x-python",
   "name": "python",
   "nbconvert_exporter": "python",
   "pygments_lexer": "ipython3",
   "version": "3.8.12"
  }
 },
 "nbformat": 4,
 "nbformat_minor": 5
}
